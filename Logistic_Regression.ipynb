{
  "nbformat": 4,
  "nbformat_minor": 0,
  "metadata": {
    "colab": {
      "provenance": []
    },
    "kernelspec": {
      "name": "python3",
      "display_name": "Python 3"
    },
    "language_info": {
      "name": "python"
    }
  },
  "cells": [
    {
      "cell_type": "code",
      "source": [
        "# STEP 1: Import Libraries\n",
        "import pandas as pd\n",
        "from sklearn.model_selection import train_test_split\n",
        "from sklearn.linear_model import LogisticRegression\n",
        "from sklearn.preprocessing import LabelEncoder\n",
        "from sklearn.metrics import accuracy_score, confusion_matrix, classification_report\n",
        "\n",
        "# STEP 2 (OPTIONAL): Upload file in Colab\n",
        "# from google.colab import files\n",
        "# files.upload()\n",
        "\n",
        "# STEP 3: Load the Titanic CSV file (update filename if needed)\n",
        "df = pd.read_csv(\"Titanic Dataset.csv\")\n",
        "\n",
        "# STEP 4: Normalize column names (lowercase & remove extra spaces)\n",
        "df.columns = df.columns.str.lower().str.strip()\n",
        "\n",
        "# STEP 5: Select and clean relevant columns\n",
        "df = df[[\"survived\", \"pclass\", \"sex\", \"age\", \"fare\"]]\n",
        "df = df.dropna()  # Remove rows with missing values\n",
        "\n",
        "# STEP 6: Encode 'sex' column (male=1, female=0)\n",
        "label_encoder = LabelEncoder()\n",
        "df[\"sex\"] = label_encoder.fit_transform(df[\"sex\"])\n",
        "\n",
        "# STEP 7: Define features and target\n",
        "X = df[[\"pclass\", \"sex\", \"age\", \"fare\"]]\n",
        "y = df[\"survived\"]\n",
        "\n",
        "# STEP 8: Split data into training and test sets\n",
        "X_train, X_test, y_train, y_test = train_test_split(\n",
        "    X, y, test_size=0.3, random_state=42)\n",
        "\n",
        "# STEP 9: Train Logistic Regression model\n",
        "model = LogisticRegression()\n",
        "model.fit(X_train, y_train)\n",
        "\n",
        "# STEP 10: Predict and evaluate\n",
        "y_pred = model.predict(X_test)\n",
        "\n",
        "print(\" Accuracy:\", accuracy_score(y_test, y_pred))\n",
        "print(\"\\n Confusion Matrix:\\n\", confusion_matrix(y_test, y_pred))\n",
        "print(\"\\n Classification Report:\\n\", classification_report(y_test, y_pred))\n",
        "\n",
        "# STEP 11: Visualize the Confusion Matrix\n",
        "import seaborn as sns\n",
        "import matplotlib.pyplot as plt\n",
        "from sklearn.metrics import ConfusionMatrixDisplay\n",
        "\n",
        "# Option 1: Basic heatmap using seaborn\n",
        "cm = confusion_matrix(y_test, y_pred)\n",
        "\n",
        "plt.figure(figsize=(6,4))\n",
        "sns.heatmap(cm, annot=True, fmt='d', cmap='Blues', cbar=False,\n",
        "            xticklabels=[\"Predicted Died (0)\", \"Predicted Survived (1)\"],\n",
        "            yticklabels=[\"Actual Died (0)\", \"Actual Survived (1)\"])\n",
        "plt.title(\"Titanic Confusion Matrix\")\n",
        "plt.ylabel(\"Actual\")\n",
        "plt.xlabel(\"Predicted\")\n",
        "plt.show()\n",
        "\n",
        "\n"
      ],
      "metadata": {
        "colab": {
          "base_uri": "https://localhost:8080/",
          "height": 688
        },
        "id": "NMYCpYn73HCM",
        "outputId": "6411f1aa-76e5-4f50-f788-3254e0f7eb5d"
      },
      "execution_count": 11,
      "outputs": [
        {
          "output_type": "stream",
          "name": "stdout",
          "text": [
            " Accuracy: 0.7388535031847133\n",
            "\n",
            " Confusion Matrix:\n",
            " [[142  33]\n",
            " [ 49  90]]\n",
            "\n",
            " Classification Report:\n",
            "               precision    recall  f1-score   support\n",
            "\n",
            "           0       0.74      0.81      0.78       175\n",
            "           1       0.73      0.65      0.69       139\n",
            "\n",
            "    accuracy                           0.74       314\n",
            "   macro avg       0.74      0.73      0.73       314\n",
            "weighted avg       0.74      0.74      0.74       314\n",
            "\n"
          ]
        },
        {
          "output_type": "display_data",
          "data": {
            "text/plain": [
              "<Figure size 600x400 with 1 Axes>"
            ],
            "image/png": "[encoded data removed]"
          },
          "metadata": {}
        }
      ]
    },
    {
      "cell_type": "code",
      "source": [
        "# STEP 12: Predict using user input\n",
        "print(\"\\nEnter passenger details to predict survival:\")\n",
        "\n",
        "# User input\n",
        "pclass = int(input(\"Passenger Class (1 = 1st, 2 = 2nd, 3 = 3rd): \"))\n",
        "sex_input = input(\"Sex (male/female): \").strip().lower()\n",
        "sex = 1 if sex_input == 'male' else 0\n",
        "age = float(input(\"Age (e.g., 29.0): \"))\n",
        "fare = float(input(\"Fare (e.g., 72.5): \"))\n",
        "\n",
        "# Create DataFrame from input\n",
        "user_data = pd.DataFrame([[pclass, sex, age, fare]],\n",
        "                         columns=[\"pclass\", \"sex\", \"age\", \"fare\"])\n",
        "\n",
        "# Predict\n",
        "prediction = model.predict(user_data)[0]\n",
        "\n",
        "# Output result\n",
        "result = \"Survived ✅\" if prediction == 1 else \"Did NOT Survive ❌\"\n",
        "print(f\"\\nPrediction: {result}\")\n"
      ],
      "metadata": {
        "colab": {
          "base_uri": "https://localhost:8080/",
          "height": 0
        },
        "id": "XWxxs35Svfxs",
        "outputId": "2aeb828e-452b-4fe0-fb33-1968a0ee73e0"
      },
      "execution_count": 10,
      "outputs": [
        {
          "output_type": "stream",
          "name": "stdout",
          "text": [
            "\n",
            "Enter passenger details to predict survival:\n",
            "Passenger Class (1 = 1st, 2 = 2nd, 3 = 3rd): 3\n",
            "Sex (male/female): female\n",
            "Age (e.g., 29.0): 28\n",
            "Fare (e.g., 72.5): 7.25\n",
            "\n",
            "Prediction: Survived ✅\n"
          ]
        }
      ]
    }
  ]
}